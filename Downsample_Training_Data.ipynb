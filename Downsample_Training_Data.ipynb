{
 "cells": [
  {
   "cell_type": "code",
   "execution_count": 7,
   "metadata": {},
   "outputs": [
    {
     "name": "stdout",
     "output_type": "stream",
     "text": [
      "import_time 193.46755385398865\n"
     ]
    }
   ],
   "source": [
    "import numpy as np\n",
    "import matplotlib.pyplot as plt\n",
    "import pandas as pd\n",
    "import sklearn\n",
    "# Importing the dataset\n",
    "import time\n",
    "start = time.time()\n",
    "\n",
    "#df = pd.read_csv(\"./train_sample.csv\")\n",
    "df = pd.read_csv(\"./train.csv\")\n",
    "\n",
    "end = time.time()\n",
    "print('import_time',end - start)"
   ]
  },
  {
   "cell_type": "code",
   "execution_count": 8,
   "metadata": {},
   "outputs": [
    {
     "name": "stdout",
     "output_type": "stream",
     "text": [
      "minority_count 456846\n",
      "1    456846\n",
      "0    456846\n",
      "Name: is_attributed, dtype: int64\n",
      "import_time 100.23873591423035\n"
     ]
    }
   ],
   "source": [
    "from sklearn.utils import resample\n",
    "start = time.time()\n",
    "\n",
    "minority_count = df['is_attributed'].value_counts()[1]\n",
    "print('minority_count',minority_count)\n",
    "\n",
    "# Separate majority and minority classes\n",
    "df_majority = df[df.is_attributed==0]\n",
    "df_minority = df[df.is_attributed==1]\n",
    " \n",
    "# Downsample majority class\n",
    "df_majority_downsampled = resample(df_majority, \n",
    "                                 replace=False,    # sample without replacement\n",
    "                                 n_samples=minority_count,     # to match minority class\n",
    "                                 random_state=123) # reproducible results\n",
    " \n",
    "# Combine minority class with downsampled majority class\n",
    "df_down = pd.concat([df_majority_downsampled, df_minority])\n",
    " \n",
    "# Display new class counts\n",
    "print(df_down.is_attributed.value_counts())\n",
    "# 1    49\n",
    "# 0    49\n",
    "# Name: balance, dtype: int64\n",
    "\n",
    "end = time.time()\n",
    "print('import_time',end - start)"
   ]
  },
  {
   "cell_type": "code",
   "execution_count": 9,
   "metadata": {},
   "outputs": [
    {
     "name": "stdout",
     "output_type": "stream",
     "text": [
      "import_time 6.5380940437316895\n"
     ]
    }
   ],
   "source": [
    "start = time.time()\n",
    "\n",
    "df_down.to_csv('train_downsampled.csv')\n",
    "\n",
    "end = time.time()\n",
    "print('import_time',end - start)"
   ]
  },
  {
   "cell_type": "code",
   "execution_count": null,
   "metadata": {},
   "outputs": [],
   "source": []
  }
 ],
 "metadata": {
  "kernelspec": {
   "display_name": "Python 3",
   "language": "python",
   "name": "python3"
  },
  "language_info": {
   "codemirror_mode": {
    "name": "ipython",
    "version": 3
   },
   "file_extension": ".py",
   "mimetype": "text/x-python",
   "name": "python",
   "nbconvert_exporter": "python",
   "pygments_lexer": "ipython3",
   "version": "3.6.4"
  }
 },
 "nbformat": 4,
 "nbformat_minor": 2
}
