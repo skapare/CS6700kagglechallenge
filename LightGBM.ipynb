{
 "cells": [
  {
   "cell_type": "markdown",
   "metadata": {},
   "source": [
    "### Preprocessing data"
   ]
  },
  {
   "cell_type": "code",
   "execution_count": 19,
   "metadata": {},
   "outputs": [
    {
     "name": "stdout",
     "output_type": "stream",
     "text": [
      "import_time 0.11452484130859375\n"
     ]
    }
   ],
   "source": [
    "import numpy as np\n",
    "import matplotlib.pyplot as plt\n",
    "import pandas as pd\n",
    "import sklearn\n",
    "# Importing the dataset\n",
    "import time\n",
    "start = time.time()\n",
    "\n",
    "df = pd.read_csv(\"./train_sample.csv\")\n",
    "#df = pd.read_csv(\"./train.csv\")\n",
    "\n",
    "end = time.time()\n",
    "print('import_time',end - start)\n"
   ]
  },
  {
   "cell_type": "markdown",
   "metadata": {},
   "source": [
    "#### Upsampling"
   ]
  },
  {
   "cell_type": "code",
   "execution_count": 20,
   "metadata": {},
   "outputs": [
    {
     "data": {
      "text/plain": [
       "1    99773\n",
       "0    99773\n",
       "Name: is_attributed, dtype: int64"
      ]
     },
     "execution_count": 20,
     "metadata": {},
     "output_type": "execute_result"
    }
   ],
   "source": [
    "#upsample minority class with replacement\n",
    "from sklearn.utils import resample\n",
    "\n",
    "majority_count = df['is_attributed'].value_counts()[0]\n",
    "\n",
    "# Separate majority and minority classes\n",
    "df_majority = df[df.is_attributed==0]\n",
    "df_minority = df[df.is_attributed==1]\n",
    " \n",
    "# Upsample minority class\n",
    "df_minority_upsampled = resample(df_minority, \n",
    "                                 replace=True,     # sample with replacement\n",
    "                                 n_samples=majority_count,    # to match majority class\n",
    "                                 random_state=123) # reproducible results\n",
    " \n",
    "# Combine majority class with upsampled minority class\n",
    "df_up = pd.concat([df_majority, df_minority_upsampled])\n",
    " \n",
    "# Display new class counts\n",
    "df_up.is_attributed.value_counts()\n",
    "# 1    576\n",
    "# 0    576\n",
    "# Name: balance, dtype: int64\n"
   ]
  },
  {
   "cell_type": "markdown",
   "metadata": {},
   "source": [
    "#### Test on Logistic Regression"
   ]
  },
  {
   "cell_type": "code",
   "execution_count": 21,
   "metadata": {},
   "outputs": [
    {
     "name": "stdout",
     "output_type": "stream",
     "text": [
      "[0 1]\n",
      "0.7419642588676295\n"
     ]
    }
   ],
   "source": [
    "# Separate input features (X) and target variable (y)\n",
    "y_u = df_up['is_attributed']\n",
    "X_u = df_up.drop(['click_time', 'attributed_time','is_attributed'], axis=1)\n",
    "\n",
    "\n",
    "import sklearn.linear_model\n",
    "from sklearn.metrics import accuracy_score\n",
    "\n",
    "# Train model\n",
    "clf_1 = sklearn.linear_model.LogisticRegression().fit(X_u, y_u)\n",
    " \n",
    "# Predict on training set\n",
    "pred_y_1 = clf_1.predict(X_u)\n",
    " \n",
    "# Is our model still predicting just one class?\n",
    "print( np.unique( pred_y_1 ) )\n",
    "# [0 1]\n",
    " \n",
    "# How's our accuracy?\n",
    "print( accuracy_score(y_u, pred_y_1) )\n",
    "# 0.513888888889"
   ]
  },
  {
   "cell_type": "markdown",
   "metadata": {},
   "source": [
    "#### Downsampling"
   ]
  },
  {
   "cell_type": "code",
   "execution_count": 22,
   "metadata": {},
   "outputs": [
    {
     "data": {
      "text/plain": [
       "1    227\n",
       "0    227\n",
       "Name: is_attributed, dtype: int64"
      ]
     },
     "execution_count": 22,
     "metadata": {},
     "output_type": "execute_result"
    }
   ],
   "source": [
    "minority_count = df['is_attributed'].value_counts()[1]\n",
    "\n",
    "# Separate majority and minority classes\n",
    "df_majority = df[df.is_attributed==0]\n",
    "df_minority = df[df.is_attributed==1]\n",
    " \n",
    "# Downsample majority class\n",
    "df_majority_downsampled = resample(df_majority, \n",
    "                                 replace=False,    # sample without replacement\n",
    "                                 n_samples=minority_count,     # to match minority class\n",
    "                                 random_state=123) # reproducible results\n",
    " \n",
    "# Combine minority class with downsampled majority class\n",
    "df_down = pd.concat([df_majority_downsampled, df_minority])\n",
    " \n",
    "# Display new class counts\n",
    "df_down.is_attributed.value_counts()\n",
    "# 1    49\n",
    "# 0    49\n",
    "# Name: balance, dtype: int64"
   ]
  },
  {
   "cell_type": "markdown",
   "metadata": {},
   "source": [
    "#### Test on Logistic Regression"
   ]
  },
  {
   "cell_type": "code",
   "execution_count": 23,
   "metadata": {},
   "outputs": [
    {
     "name": "stdout",
     "output_type": "stream",
     "text": [
      "[0 1]\n",
      "0.7775330396475771\n"
     ]
    }
   ],
   "source": [
    "# Separate input features (X) and target variable (y)\n",
    "y_d = df_down['is_attributed']\n",
    "X_d = df_down.drop(['click_time', 'attributed_time','is_attributed'], axis=1)\n",
    "\n",
    "\n",
    "import sklearn.linear_model\n",
    "\n",
    "# Train model\n",
    "clf_1 = sklearn.linear_model.LogisticRegression().fit(X_d, y_d)\n",
    " \n",
    "# Predict on training set\n",
    "pred_y_1 = clf_1.predict(X_d)\n",
    " \n",
    "# Is our model still predicting just one class?\n",
    "print( np.unique( pred_y_1 ) )\n",
    "# [0 1]\n",
    " \n",
    "# How's our accuracy?\n",
    "print( accuracy_score(y_d, pred_y_1) )\n",
    "# 0.513888888889"
   ]
  },
  {
   "cell_type": "code",
   "execution_count": 30,
   "metadata": {},
   "outputs": [],
   "source": [
    "# uncomment for upsampling\n",
    "X=X_u\n",
    "y=y_u\n",
    "\n",
    "# uncomment for downsampling\n",
    "#X=X_d\n",
    "#y=y_d"
   ]
  },
  {
   "cell_type": "markdown",
   "metadata": {},
   "source": [
    "### This is an attempt at implementing LightGBM"
   ]
  },
  {
   "cell_type": "code",
   "execution_count": 38,
   "metadata": {},
   "outputs": [
    {
     "name": "stdout",
     "output_type": "stream",
     "text": [
      "           ip  app  device   os  channel\n",
      "11680    5348   29       1   19      343\n",
      "73233  204203   19       0    0      213\n",
      "10013  254101   19      33   29      213\n",
      "99562    6481    5       1   13      377\n",
      "40687  247999   10       1   36      113\n",
      "77870  243534   19      21   24      213\n",
      "22027  121486    2       1   41      435\n",
      "48972   79045   15       2   17      245\n",
      "94265  140691   18       1   19      121\n",
      "11861   93054   18       1   13      107\n",
      "17962  272901   72       1    3      101\n",
      "52481   84661   13       1   18      477\n",
      "81056   83309   35       1   19      274\n",
      "36902   65214   19       0   29      347\n",
      "35982    7909    8       1   13      145\n",
      "63794   26870    3       1   11      466\n",
      "78399    5314   10       1    1      113\n",
      "92322   88914   32       1   19       21\n",
      "39163  201182   15       1   17      245\n",
      "80228   42841    1       1   20      124\n",
      "46733  126254    3       1   19      371\n",
      "33038  210641    8       1   13      145\n",
      "4766   202255    5       1   27      113\n",
      "41993   35308   96       0    0      213\n",
      "90243  147184    5       1   61      113\n",
      "2210    74062    9       1   19      442\n",
      "19794  344551   18       1   25      449\n",
      "84680  177245    3       1    8      280\n",
      "66236  335367   29       1    6      213\n",
      "38971   56317   50       0    0      213\n",
      "...       ...  ...     ...  ...      ...\n",
      "84162   70687   12       1   31      481\n",
      "7901    43957   12       1   19      265\n",
      "14125  224916  103       1   19      213\n",
      "70776   25009    3       1   19      280\n",
      "67860   39736    3       1   22      442\n",
      "73589  313069   19       0  866      282\n",
      "60639  260439   29       1   10      333\n",
      "82651   63698    3       1   13      280\n",
      "28649  240046   29       1   13      213\n",
      "85366  336297   19       0   21      213\n",
      "1341   131029   19       0    0      343\n",
      "54835   93996   11       1   19      487\n",
      "17135  122429   23       1    9      153\n",
      "80376  163916   12       1   19      265\n",
      "52753  110768    2       1   13      477\n",
      "55222  120259    3       1   15      280\n",
      "48729   44673    9       2    9      466\n",
      "92628  358438   34       1   13      243\n",
      "98351  232820   19      16    0      213\n",
      "86492   45193   14       1   53      134\n",
      "11034   96637   19     102   24      213\n",
      "42105    5314   23       1    6      153\n",
      "97864   76749    9       1   25      466\n",
      "96162   52987   14       1    9      349\n",
      "93539  268081   45       1   17        5\n",
      "93460  263187   29       1   26      101\n",
      "65605   48337  107       1   13      171\n",
      "33269   14888   35       1   17      274\n",
      "43682  143274    3       1   19      280\n",
      "16430  167515   29       1   19      213\n",
      "\n",
      "[149659 rows x 5 columns]\n"
     ]
    }
   ],
   "source": [
    "# Splitting the dataset into the Training set and Test set\n",
    "from sklearn.cross_validation import train_test_split\n",
    "x_train, x_test, y_train, y_test = train_test_split(X, y, test_size = 0.25, random_state = 0)\n",
    "# Feature Scaling\n",
    "print(x_train)\n",
    "from sklearn.preprocessing import StandardScaler\n",
    "sc = StandardScaler()\n",
    "x_train = sc.fit_transform(x_train)\n",
    "x_test = sc.transform(x_test)"
   ]
  },
  {
   "cell_type": "code",
   "execution_count": 32,
   "metadata": {},
   "outputs": [
    {
     "name": "stdout",
     "output_type": "stream",
     "text": [
      "time 30.745941162109375\n"
     ]
    }
   ],
   "source": [
    "\"\"\"\n",
    "import lightgbm as lgb\n",
    "d_train = lgb.Dataset(x_train, label=y_train)\n",
    "params = {}\n",
    "params['learning_rate'] = 0.003\n",
    "#boosting type: rf, gbdt, dart, goss\n",
    "params['boosting_type'] = 'rf'\n",
    "params['objective'] = 'binary'\n",
    "params['metric'] = 'binary_logloss'\n",
    "params['sub_feature'] = 0.5\n",
    "params['num_leaves'] = 1024\n",
    "params['min_data'] = 50\n",
    "params['max_depth'] = 10\n",
    "#feature_fraction if using random forest\n",
    "params['feature_fraction'] = 0.8\n",
    "#fraction = 1-(1/e)\n",
    "params['bagging_fraction'] = 0.632\n",
    "#lambda specifies regularization. Between 0 and 1\n",
    "params['lambda'] = 0.5\n",
    "#default:64\n",
    "params['max_cat_group'] = 64\n",
    "\n",
    "clf = lgb.train(params, d_train, 100)\n",
    "\"\"\"\n",
    "\n",
    "import lightgbm as lgb\n",
    "d_train = lgb.Dataset(x_train, y_train)\n",
    "params = {}\n",
    "params['learning_rate'] = 0.003\n",
    "#boosting type: rf, gbdt, dart, goss\n",
    "params['boosting_type'] = 'gbdt'\n",
    "params['objective'] = 'binary'\n",
    "params['metric'] = 'binary_logloss'\n",
    "params['sub_feature'] = 0.5\n",
    "params['feature_fraction'] = 0.8\n",
    "params['num_leaves'] = 1024\n",
    "params['min_data'] = 50\n",
    "params['max_depth'] = 5\n",
    "#for rf\n",
    "#params['bagging_freq'] = 1\n",
    "#params['bagging_fraction'] = 0.632\n",
    "\n",
    "start = time.time()\n",
    "clf = lgb.train(params, d_train, 10000)\n",
    "end = time.time()\n",
    "print('time',end - start)\n"
   ]
  },
  {
   "cell_type": "code",
   "execution_count": 37,
   "metadata": {},
   "outputs": [
    {
     "data": {
      "text/plain": [
       "array([[-0.84410285, -0.10789885,  0.00486814, -0.03177196, -0.19260207],\n",
       "       [-0.52293521, -0.68694472, -0.09788207,  0.25300808,  1.45666106],\n",
       "       [ 0.55072177,  0.6159085 , -0.09788207, -0.09649469, -1.06804031],\n",
       "       ...,\n",
       "       [ 0.78670673, -0.68694472, -0.09788207, -0.01882741,  1.04239117],\n",
       "       [-0.26078156, -0.50599288, -0.09788207, -0.2647738 , -0.72411815],\n",
       "       [-0.3644112 ,  0.47114703, -0.09788207, -0.14827288,  0.28419912]])"
      ]
     },
     "execution_count": 37,
     "metadata": {},
     "output_type": "execute_result"
    }
   ],
   "source": [
    "#df_full = pd.read_csv(\"./train.csv\")\n",
    "\n"
   ]
  },
  {
   "cell_type": "code",
   "execution_count": 33,
   "metadata": {},
   "outputs": [],
   "source": [
    "#Prediction\n",
    "y_pred=clf.predict(x_test)\n",
    "#convert into binary values\n",
    "for i in range(0,len(y_pred)):\n",
    "    if y_pred[i]>=.3431:       # setting threshold to .5\n",
    "       y_pred[i]=1\n",
    "    else:  \n",
    "       y_pred[i]=0"
   ]
  },
  {
   "cell_type": "code",
   "execution_count": 34,
   "metadata": {},
   "outputs": [
    {
     "name": "stdout",
     "output_type": "stream",
     "text": [
      "cm [[24615   191]\n",
      " [    0 25081]]\n",
      "accuracy 0.9961713472447732\n"
     ]
    }
   ],
   "source": [
    "#Confusion matrix\n",
    "from sklearn.metrics import confusion_matrix\n",
    "cm = confusion_matrix(y_test, y_pred)\n",
    "#Accuracy\n",
    "from sklearn.metrics import accuracy_score\n",
    "accuracy=accuracy_score(y_pred,y_test)\n",
    "print('cm',cm)\n",
    "print('accuracy',accuracy)"
   ]
  },
  {
   "cell_type": "code",
   "execution_count": 35,
   "metadata": {},
   "outputs": [
    {
     "name": "stdout",
     "output_type": "stream",
     "text": [
      "[0. 1.]\n"
     ]
    }
   ],
   "source": [
    "print( np.unique( y_pred ) )"
   ]
  },
  {
   "cell_type": "code",
   "execution_count": null,
   "metadata": {},
   "outputs": [],
   "source": []
  },
  {
   "cell_type": "code",
   "execution_count": null,
   "metadata": {},
   "outputs": [],
   "source": []
  }
 ],
 "metadata": {
  "kernelspec": {
   "display_name": "Python 3",
   "language": "python",
   "name": "python3"
  },
  "language_info": {
   "codemirror_mode": {
    "name": "ipython",
    "version": 3
   },
   "file_extension": ".py",
   "mimetype": "text/x-python",
   "name": "python",
   "nbconvert_exporter": "python",
   "pygments_lexer": "ipython3",
   "version": "3.6.4"
  }
 },
 "nbformat": 4,
 "nbformat_minor": 2
}
