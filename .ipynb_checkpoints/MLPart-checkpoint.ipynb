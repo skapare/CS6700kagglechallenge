{
 "cells": [
  {
   "cell_type": "code",
   "execution_count": 40,
   "metadata": {},
   "outputs": [],
   "source": [
    "import pandas as pd\n",
    "import numpy as np\n",
    "import matplotlib.pyplot as plt\n",
    "from datetime import datetime\n",
    "import dateutil\n",
    "from sklearn import svm\n",
    "from sklearn import preprocessing\n",
    "import timeit"
   ]
  },
  {
   "cell_type": "code",
   "execution_count": 41,
   "metadata": {},
   "outputs": [],
   "source": [
    "# get data in basic table form\n",
    "df = pd.read_csv(\"/Users/filiprelanderMBP2014/Dropbox/Cornell_S2018/CS6700/Project/repo/CS6700kagglechallenge/train_sample.csv\")"
   ]
  },
  {
   "cell_type": "code",
   "execution_count": 42,
   "metadata": {},
   "outputs": [],
   "source": [
    "df['time_to_attribution'] = df.apply(lambda row: datetime.strptime(row['attributed_time'], '%Y-%m-%d %H:%M:%S') - datetime.strptime(row['click_time'], '%Y-%m-%d %H:%M:%S') if isinstance(row['attributed_time'], str) else '', axis=1)"
   ]
  },
  {
   "cell_type": "code",
   "execution_count": 43,
   "metadata": {},
   "outputs": [
    {
     "name": "stdout",
     "output_type": "stream",
     "text": [
      "34857\n",
      "[0.125      0.08       1.         2.         2.         0.07407407\n",
      " 2.         0.14285714 2.         0.08       0.08695652 0.22222222\n",
      " 0.22222222 0.15384615 0.33333333 0.0952381  0.08       0.28571429\n",
      " 2.        ]\n"
     ]
    },
    {
     "data": {
      "text/plain": [
       "2.0"
      ]
     },
     "execution_count": 43,
     "metadata": {},
     "output_type": "execute_result"
    }
   ],
   "source": [
    "df['click_time_dt'] = df.apply(lambda row: (dateutil.parser.parse(row['click_time'], dayfirst=True) - datetime.utcfromtimestamp(0)).total_seconds() , axis=1)\n",
    "\n",
    "#clik frequency\n",
    "#print(type(df['click_time']))\n",
    "#ls = [df['click_time_dt'][0], df['click_time_dt'][1]]\n",
    "#print(min(ls))\n",
    "#print(df.isnull().sum())\n",
    "print(df['ip'].nunique())\n",
    "ip = df.groupby('ip')['ip']\n",
    "min_time = df.groupby('ip')[\"click_time_dt\"].min()\n",
    "max_time = df.groupby('ip')[\"click_time_dt\"].max()\n",
    "num_clicks = df.groupby('ip')[\"click_time_dt\"].count()\n",
    "\n",
    "freq = num_clicks / (max_time - min_time)\n",
    "import math\n",
    "f_list = []\n",
    "for f in freq:\n",
    "    if not math.isinf(f):\n",
    "        f_list.append(f)\n",
    "freq2 = sum(f_list)/len(f_list)\n",
    "period = 1/freq2\n",
    "arr = np.array([f_list])\n",
    "stdev = np.std(arr)\n",
    "outliers = arr[(arr - np.mean(arr)) > 2 * np.std(arr)]\n",
    "print(outliers)\n",
    "np.max(arr)\n",
    "\n",
    "#gfreq = freq.apply(math.isinf)\n",
    "#print(gfreq)\n",
    "#gfreq.mean()\n",
    "#print(df.groupby('ip')) \n",
    "#df\n",
    "#df['first_click_time'] = df.groupby('ip').min()['click_time']\n",
    "#df['last_click_time'] = df.groupby('ip').click_time.max()\n",
    "#df['first_last_click'] = pd.to_datetime(df['last_click_time']) - pd.to_datetime(df['first_click_time'])\n",
    "#df['first_last_click_seconds'] = df['first_last_click'].dt.total_seconds()\n",
    "\n",
    "#df['num_clicks'] = df.groupby('ip').count()\n",
    "#df['click_freq'] = df['num_clicks'] / df['first_last_click_seconds']\n",
    "\n",
    "#df\n",
    "\n",
    "\n",
    "# create dataframe for is_attributed == 1\n",
    "#df_ia1 = df.loc[df['time_to_attribution'] != '']"
   ]
  },
  {
   "cell_type": "code",
   "execution_count": 44,
   "metadata": {},
   "outputs": [],
   "source": [
    "def get_fv_labels(df):\n",
    "    labels = df['is_attributed']\n",
    "    fv = df.drop(['click_time', 'attributed_time', 'time_to_attribution','is_attributed'], axis=1)\n",
    "    return fv, labels\n",
    "\n",
    "def scale_fv(mat):\n",
    "    min_max_scaler = preprocessing.MinMaxScaler()\n",
    "    return np.transpose(min_max_scaler.fit_transform(np.transpose(mat)))\n",
    "df = df.sample(frac=1)\n",
    "df_train = df.head(80000)\n",
    "df_test = df.tail(20000)\n",
    "\n",
    "train_fv, train_labels = get_fv_labels(df_train)\n",
    "test_fv, test_labels = get_fv_labels(df_test)\n",
    "\n",
    "train_fv_np = train_fv.as_matrix()\n",
    "test_fv_np = test_fv.as_matrix()\n",
    "\n",
    "train_labels_np = train_labels.as_matrix()\n",
    "test_labels_np = test_labels.as_matrix()\n",
    "\n",
    "train_fv_np_sc = scale_fv(train_fv_np)\n",
    "test_fv_np_sc = scale_fv(test_fv_np)"
   ]
  },
  {
   "cell_type": "code",
   "execution_count": 56,
   "metadata": {},
   "outputs": [
    {
     "name": "stdout",
     "output_type": "stream",
     "text": [
      "0.5610830783843994\n",
      "predict [0 0 0 ... 0 0 0]\n",
      "labels [0 0 0 ... 0 0 0]\n",
      "46\n",
      "0.9977\n"
     ]
    }
   ],
   "source": [
    "def svm(fv, labels):\n",
    "    #clf = sklearn.svm.SVC(C=1.0, class_weight={1:10})\n",
    "    clf = sklearn.svm.SVC(C=5.0)\n",
    "    \n",
    "    clf.fit(fv, labels)\n",
    "    return clf\n",
    "\n",
    "import time\n",
    "start = time.time()\n",
    "clf = svm(train_fv_np_sc,train_labels_np) \n",
    "end = time.time()\n",
    "print(end - start)\n",
    "\n",
    "#print(timeit.timeit(svm(test_mat_scaled)))\n",
    "predict = clf.predict(test_fv_np_sc)\n",
    "labels = test_labels_np\n",
    "\n",
    "print('predict',predict)\n",
    "print('labels',labels)\n",
    "\n",
    "\n",
    "incorrect = np.sum(np.bitwise_xor(predict,labels))\n",
    "\n",
    "\n",
    "print(incorrect)\n",
    "\n",
    "print((1-(incorrect/20000)))\n",
    "\n",
    "\n"
   ]
  },
  {
   "cell_type": "code",
   "execution_count": null,
   "metadata": {},
   "outputs": [],
   "source": []
  },
  {
   "cell_type": "code",
   "execution_count": null,
   "metadata": {},
   "outputs": [],
   "source": []
  },
  {
   "cell_type": "code",
   "execution_count": null,
   "metadata": {},
   "outputs": [],
   "source": []
  }
 ],
 "metadata": {
  "kernelspec": {
   "display_name": "Python 3",
   "language": "python",
   "name": "python3"
  },
  "language_info": {
   "codemirror_mode": {
    "name": "ipython",
    "version": 3
   },
   "file_extension": ".py",
   "mimetype": "text/x-python",
   "name": "python",
   "nbconvert_exporter": "python",
   "pygments_lexer": "ipython3",
   "version": "3.6.4"
  }
 },
 "nbformat": 4,
 "nbformat_minor": 2
}
